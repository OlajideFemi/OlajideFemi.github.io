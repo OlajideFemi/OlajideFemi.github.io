{
  "nbformat": 4,
  "nbformat_minor": 0,
  "metadata": {
    "colab": {
      "provenance": [],
      "authorship_tag": "ABX9TyPKVIvFz15vEXBU7FYE/TXU",
      "include_colab_link": true
    },
    "kernelspec": {
      "name": "python3",
      "display_name": "Python 3"
    },
    "language_info": {
      "name": "python"
    }
  },
  "cells": [
    {
      "cell_type": "markdown",
      "metadata": {
        "id": "view-in-github",
        "colab_type": "text"
      },
      "source": [
        "<a href=\"https://colab.research.google.com/github/OlajideFemi/OlajideFemi.github.io/blob/index/Dissertation_Code_1.ipynb\" target=\"_parent\"><img src=\"https://colab.research.google.com/assets/colab-badge.svg\" alt=\"Open In Colab\"/></a>"
      ]
    },
    {
      "cell_type": "code",
      "execution_count": 4,
      "metadata": {
        "id": "3O0oh_vKz7I4"
      },
      "outputs": [],
      "source": []
    },
    {
      "cell_type": "code",
      "source": [
        "#import Library\n",
        "import pandas as pd\n",
        "import geopandas as gpd\n",
        "import matplotlib.pyplot as plt\n",
        "import seaborn as sns\n",
        "import warnings\n",
        "import numpy as np\n",
        "import json\n",
        "from statsmodels.tsa.stattools import adfuller\n",
        "from statsmodels.graphics.tsaplots import plot_acf, plot_pacf\n",
        "from statsmodels.tsa.arima.model import ARIMA\n",
        "from sklearn.model_selection import train_test_split\n",
        "from sklearn.linear_model import LinearRegression\n",
        "from sklearn.metrics import mean_squared_error, mean_absolute_error, r2_score\n",
        "from sklearn.preprocessing import MinMaxScaler\n",
        "from sklearn.preprocessing import StandardScaler\n",
        "from keras.models import Sequential\n",
        "from keras.layers import LSTM, Dense\n"
      ],
      "metadata": {
        "id": "JWvwOpBu0bf5"
      },
      "execution_count": 5,
      "outputs": []
    },
    {
      "cell_type": "markdown",
      "source": [
        "<center><h1> West Midlands' Carbon Footprint </h1></center>\n",
        "\n",
        "### Understanding the Data\n",
        "\n",
        "<!-- <ul> -->\n",
        "<!--  <li><h2> Understanding the Data</h2></li> -->\n",
        "<!--  <li>Handling Missing Values</li> -->\n",
        "<!--  <li>Remove Duplicates</li> -->\n",
        "<!--  <li>Standardize Formats</li> -->\n",
        "<!--  <li>Handle Outliers</li> -->\n",
        "<!--  <li>Validate and correct data</li>  -->\n",
        "<!--  <li>Document Changes</li> -->\n",
        "<!--  <li>Test and iterate</li> -->\n",
        "<!--  <li>Maintain data provence</li>   -->     \n",
        "<!-- </ul> -->\n",
        "\n",
        "\n",
        "\n",
        "\n",
        "<!-- <P><a href=\"https://www.gov.uk/government/statistics/uks-carbon-footprint\">https://assets.publishing.service.gov.uk/government/uploads/system/uploads/attachment_data/file/1166194/2005-21-uk-local-authority-ghg-emissions.xlsx'\n",
        "</a></P> -->  \n",
        "\n",
        "<b><P>Dataset:</b></P>\n",
        "<p>\n",
        "C. O'Sullivan, \"UK local authority and regional greenhouse gas emissions national statistics: 2005-2021,\" Department of Business, Energy & Industrial Strategy, London, 2023.</p>\n",
        "Accessed Date: 29 March, 2023\n",
        "<P><b>Internet Repositories:</b></P>\n",
        "\n",
        "<P><a href=\"https://www.gov.uk/government/statistics/uks-carbon-footprint\">https://assets.publishing.service.gov.uk/government/uploads/system/uploads/attachment_data/file/1166194/2005-21-uk-local-authority-ghg-emissions.xlsx'\n",
        "</a></P>\n",
        "\n",
        "<p>\n",
        " https://assets.publishing.service.gov.uk/government/uploads/system/uploads/attachment_data/file/1166194/2005-21-uk-local-authority-ghg-emissions.xlsx\n",
        "</p>\n",
        "\n",
        "\n",
        "<b><P>Stored On:</b></P>\n",
        "\n",
        "<P>https://olajidefemi.github.io</P>\n",
        "\n",
        "<P><a href=\"GitHub\">https://https://raw.githubusercontent.com//OlajideFemi/OlajideFemi.github.io/index/2005-21-uk-local-authority-ghg-emissions-update-060723.xlsx\n",
        "</a></P>\n",
        "\n",
        "\n",
        "From exploration of the '1_1' sheet\n",
        "\n",
        " <p>Shape of the Data: The dataset contains 7106 rows and 50 columns.</p>\n",
        " <p>Summary of the Data:\n",
        "   The dataset provides details for <b>12 unique regions</b>.\n",
        "   There are data for 17 unique years, spanning from 2005 to 2021.\n",
        "   Variables such as 'Industry Electricity', 'Industry Gas', and 'Industry Total'</p>\n",
        "\n",
        "\n",
        "\n"
      ],
      "metadata": {
        "id": "0qpZHdMw1M4z"
      }
    },
    {
      "cell_type": "code",
      "source": [],
      "metadata": {
        "id": "F3C3cop7098k"
      },
      "execution_count": null,
      "outputs": []
    }
  ]
}