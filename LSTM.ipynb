{
 "cells": [
  {
   "cell_type": "code",
   "execution_count": null,
   "metadata": {},
   "outputs": [],
   "source": []
  },
  {
   "cell_type": "code",
   "execution_count": 7,
   "metadata": {},
   "outputs": [
    {
     "data": {
      "text/html": [
       "<div>\n",
       "<style scoped>\n",
       "    .dataframe tbody tr th:only-of-type {\n",
       "        vertical-align: middle;\n",
       "    }\n",
       "\n",
       "    .dataframe tbody tr th {\n",
       "        vertical-align: top;\n",
       "    }\n",
       "\n",
       "    .dataframe thead th {\n",
       "        text-align: right;\n",
       "    }\n",
       "</style>\n",
       "<table border=\"1\" class=\"dataframe\">\n",
       "  <thead>\n",
       "    <tr style=\"text-align: right;\">\n",
       "      <th>3</th>\n",
       "      <th>Region/Country</th>\n",
       "      <th>Second Tier Authority</th>\n",
       "      <th>Local Authority</th>\n",
       "      <th>Local Authority Code</th>\n",
       "      <th>Calendar Year</th>\n",
       "      <th>LULUCF Net Emissions</th>\n",
       "      <th>Industry Total</th>\n",
       "      <th>Commercial Total</th>\n",
       "      <th>Public Sector Total</th>\n",
       "      <th>Domestic Total</th>\n",
       "      <th>Transport Total</th>\n",
       "      <th>Agriculture Total</th>\n",
       "      <th>Waste Management Total</th>\n",
       "      <th>Grand Total</th>\n",
       "    </tr>\n",
       "  </thead>\n",
       "  <tbody>\n",
       "    <tr>\n",
       "      <th>2040</th>\n",
       "      <td>West Midlands</td>\n",
       "      <td>Birmingham</td>\n",
       "      <td>Birmingham</td>\n",
       "      <td>E08000025</td>\n",
       "      <td>2005</td>\n",
       "      <td>13.873543</td>\n",
       "      <td>1216.162658</td>\n",
       "      <td>1170.441473</td>\n",
       "      <td>558.70517</td>\n",
       "      <td>2359.376951</td>\n",
       "      <td>1670.971299</td>\n",
       "      <td>15.128539</td>\n",
       "      <td>54.674741</td>\n",
       "      <td>7059.334372</td>\n",
       "    </tr>\n",
       "    <tr>\n",
       "      <th>2041</th>\n",
       "      <td>West Midlands</td>\n",
       "      <td>Birmingham</td>\n",
       "      <td>Birmingham</td>\n",
       "      <td>E08000025</td>\n",
       "      <td>2006</td>\n",
       "      <td>13.855886</td>\n",
       "      <td>1199.131422</td>\n",
       "      <td>1168.499559</td>\n",
       "      <td>519.502282</td>\n",
       "      <td>2365.574895</td>\n",
       "      <td>1610.744841</td>\n",
       "      <td>15.762343</td>\n",
       "      <td>59.040806</td>\n",
       "      <td>6952.112034</td>\n",
       "    </tr>\n",
       "    <tr>\n",
       "      <th>2042</th>\n",
       "      <td>West Midlands</td>\n",
       "      <td>Birmingham</td>\n",
       "      <td>Birmingham</td>\n",
       "      <td>E08000025</td>\n",
       "      <td>2007</td>\n",
       "      <td>13.477209</td>\n",
       "      <td>1176.697923</td>\n",
       "      <td>1111.410745</td>\n",
       "      <td>492.80575</td>\n",
       "      <td>2283.42429</td>\n",
       "      <td>1621.32779</td>\n",
       "      <td>15.055982</td>\n",
       "      <td>86.322633</td>\n",
       "      <td>6800.522322</td>\n",
       "    </tr>\n",
       "    <tr>\n",
       "      <th>2043</th>\n",
       "      <td>West Midlands</td>\n",
       "      <td>Birmingham</td>\n",
       "      <td>Birmingham</td>\n",
       "      <td>E08000025</td>\n",
       "      <td>2008</td>\n",
       "      <td>12.998567</td>\n",
       "      <td>1175.523168</td>\n",
       "      <td>1143.259246</td>\n",
       "      <td>489.438236</td>\n",
       "      <td>2284.490311</td>\n",
       "      <td>1545.527971</td>\n",
       "      <td>14.784999</td>\n",
       "      <td>78.655141</td>\n",
       "      <td>6744.67764</td>\n",
       "    </tr>\n",
       "    <tr>\n",
       "      <th>2044</th>\n",
       "      <td>West Midlands</td>\n",
       "      <td>Birmingham</td>\n",
       "      <td>Birmingham</td>\n",
       "      <td>E08000025</td>\n",
       "      <td>2009</td>\n",
       "      <td>12.151837</td>\n",
       "      <td>937.944889</td>\n",
       "      <td>945.363805</td>\n",
       "      <td>423.187511</td>\n",
       "      <td>2062.886425</td>\n",
       "      <td>1497.902337</td>\n",
       "      <td>13.508004</td>\n",
       "      <td>206.792247</td>\n",
       "      <td>6099.737055</td>\n",
       "    </tr>\n",
       "    <tr>\n",
       "      <th>...</th>\n",
       "      <td>...</td>\n",
       "      <td>...</td>\n",
       "      <td>...</td>\n",
       "      <td>...</td>\n",
       "      <td>...</td>\n",
       "      <td>...</td>\n",
       "      <td>...</td>\n",
       "      <td>...</td>\n",
       "      <td>...</td>\n",
       "      <td>...</td>\n",
       "      <td>...</td>\n",
       "      <td>...</td>\n",
       "      <td>...</td>\n",
       "      <td>...</td>\n",
       "    </tr>\n",
       "    <tr>\n",
       "      <th>2579</th>\n",
       "      <td>West Midlands</td>\n",
       "      <td>Worcestershire</td>\n",
       "      <td>Wyre Forest</td>\n",
       "      <td>E07000239</td>\n",
       "      <td>2017</td>\n",
       "      <td>-22.99366</td>\n",
       "      <td>81.578795</td>\n",
       "      <td>39.204973</td>\n",
       "      <td>18.44841</td>\n",
       "      <td>154.11273</td>\n",
       "      <td>155.081565</td>\n",
       "      <td>33.125984</td>\n",
       "      <td>40.831584</td>\n",
       "      <td>499.390383</td>\n",
       "    </tr>\n",
       "    <tr>\n",
       "      <th>2580</th>\n",
       "      <td>West Midlands</td>\n",
       "      <td>Worcestershire</td>\n",
       "      <td>Wyre Forest</td>\n",
       "      <td>E07000239</td>\n",
       "      <td>2018</td>\n",
       "      <td>-22.677647</td>\n",
       "      <td>99.82282</td>\n",
       "      <td>23.783474</td>\n",
       "      <td>18.025695</td>\n",
       "      <td>149.76546</td>\n",
       "      <td>151.453539</td>\n",
       "      <td>32.343872</td>\n",
       "      <td>37.19314</td>\n",
       "      <td>489.710354</td>\n",
       "    </tr>\n",
       "    <tr>\n",
       "      <th>2581</th>\n",
       "      <td>West Midlands</td>\n",
       "      <td>Worcestershire</td>\n",
       "      <td>Wyre Forest</td>\n",
       "      <td>E07000239</td>\n",
       "      <td>2019</td>\n",
       "      <td>-22.823968</td>\n",
       "      <td>84.767255</td>\n",
       "      <td>22.492546</td>\n",
       "      <td>15.106118</td>\n",
       "      <td>144.241608</td>\n",
       "      <td>146.896973</td>\n",
       "      <td>31.772339</td>\n",
       "      <td>36.456934</td>\n",
       "      <td>458.909804</td>\n",
       "    </tr>\n",
       "    <tr>\n",
       "      <th>2582</th>\n",
       "      <td>West Midlands</td>\n",
       "      <td>Worcestershire</td>\n",
       "      <td>Wyre Forest</td>\n",
       "      <td>E07000239</td>\n",
       "      <td>2020</td>\n",
       "      <td>-23.150931</td>\n",
       "      <td>75.302885</td>\n",
       "      <td>16.067331</td>\n",
       "      <td>14.061786</td>\n",
       "      <td>141.095909</td>\n",
       "      <td>118.871468</td>\n",
       "      <td>30.189129</td>\n",
       "      <td>36.122034</td>\n",
       "      <td>408.55961</td>\n",
       "    </tr>\n",
       "    <tr>\n",
       "      <th>2583</th>\n",
       "      <td>West Midlands</td>\n",
       "      <td>Worcestershire</td>\n",
       "      <td>Wyre Forest</td>\n",
       "      <td>E07000239</td>\n",
       "      <td>2021</td>\n",
       "      <td>-22.956472</td>\n",
       "      <td>80.866997</td>\n",
       "      <td>17.888049</td>\n",
       "      <td>14.58203</td>\n",
       "      <td>144.139487</td>\n",
       "      <td>133.576301</td>\n",
       "      <td>30.605628</td>\n",
       "      <td>37.839211</td>\n",
       "      <td>436.541231</td>\n",
       "    </tr>\n",
       "  </tbody>\n",
       "</table>\n",
       "<p>510 rows × 14 columns</p>\n",
       "</div>"
      ],
      "text/plain": [
       "3    Region/Country Second Tier Authority Local Authority  \\\n",
       "2040  West Midlands            Birmingham      Birmingham   \n",
       "2041  West Midlands            Birmingham      Birmingham   \n",
       "2042  West Midlands            Birmingham      Birmingham   \n",
       "2043  West Midlands            Birmingham      Birmingham   \n",
       "2044  West Midlands            Birmingham      Birmingham   \n",
       "...             ...                   ...             ...   \n",
       "2579  West Midlands        Worcestershire     Wyre Forest   \n",
       "2580  West Midlands        Worcestershire     Wyre Forest   \n",
       "2581  West Midlands        Worcestershire     Wyre Forest   \n",
       "2582  West Midlands        Worcestershire     Wyre Forest   \n",
       "2583  West Midlands        Worcestershire     Wyre Forest   \n",
       "\n",
       "3    Local Authority Code Calendar Year LULUCF Net Emissions Industry Total  \\\n",
       "2040            E08000025          2005            13.873543    1216.162658   \n",
       "2041            E08000025          2006            13.855886    1199.131422   \n",
       "2042            E08000025          2007            13.477209    1176.697923   \n",
       "2043            E08000025          2008            12.998567    1175.523168   \n",
       "2044            E08000025          2009            12.151837     937.944889   \n",
       "...                   ...           ...                  ...            ...   \n",
       "2579            E07000239          2017            -22.99366      81.578795   \n",
       "2580            E07000239          2018           -22.677647       99.82282   \n",
       "2581            E07000239          2019           -22.823968      84.767255   \n",
       "2582            E07000239          2020           -23.150931      75.302885   \n",
       "2583            E07000239          2021           -22.956472      80.866997   \n",
       "\n",
       "3    Commercial Total Public Sector Total Domestic Total Transport Total  \\\n",
       "2040      1170.441473           558.70517    2359.376951     1670.971299   \n",
       "2041      1168.499559          519.502282    2365.574895     1610.744841   \n",
       "2042      1111.410745           492.80575     2283.42429      1621.32779   \n",
       "2043      1143.259246          489.438236    2284.490311     1545.527971   \n",
       "2044       945.363805          423.187511    2062.886425     1497.902337   \n",
       "...               ...                 ...            ...             ...   \n",
       "2579        39.204973            18.44841      154.11273      155.081565   \n",
       "2580        23.783474           18.025695      149.76546      151.453539   \n",
       "2581        22.492546           15.106118     144.241608      146.896973   \n",
       "2582        16.067331           14.061786     141.095909      118.871468   \n",
       "2583        17.888049            14.58203     144.139487      133.576301   \n",
       "\n",
       "3    Agriculture Total Waste Management Total  Grand Total  \n",
       "2040         15.128539              54.674741  7059.334372  \n",
       "2041         15.762343              59.040806  6952.112034  \n",
       "2042         15.055982              86.322633  6800.522322  \n",
       "2043         14.784999              78.655141   6744.67764  \n",
       "2044         13.508004             206.792247  6099.737055  \n",
       "...                ...                    ...          ...  \n",
       "2579         33.125984              40.831584   499.390383  \n",
       "2580         32.343872               37.19314   489.710354  \n",
       "2581         31.772339              36.456934   458.909804  \n",
       "2582         30.189129              36.122034    408.55961  \n",
       "2583         30.605628              37.839211   436.541231  \n",
       "\n",
       "[510 rows x 14 columns]"
      ]
     },
     "execution_count": 7,
     "metadata": {},
     "output_type": "execute_result"
    }
   ],
   "source": [
    "\n",
    "import pandas as pd\n",
    "\n",
    "# Load the data from the provided URL\n",
    "url = 'https://assets.publishing.service.gov.uk/government/uploads/system/uploads/attachment_data/file/1166194/2005-21-uk-local-authority-ghg-emissions.xlsx'\n",
    "data_1_1 = pd.read_excel(url, sheet_name='1_1')\n",
    "\n",
    "# Extract the actual data, excluding the header information\n",
    "data_1_1_actual = data_1_1.iloc[4:]\n",
    "data_1_1_actual.columns = data_1_1.iloc[3]\n",
    "data_1_1_actual.reset_index(drop=True, inplace=True)\n",
    "\n",
    "# Filter the data for the \"West Midlands\" Region/Country\n",
    "west_midlands_data = data_1_1_actual[data_1_1_actual['Region/Country'] == 'West Midlands']\n",
    "\n",
    "# Filter out rows where \"Second Tier Authority\" ends with \"Total\"\n",
    "west_midlands_data_filtered = west_midlands_data[~west_midlands_data['Second Tier Authority'].str.endswith(\"Total\")]\n",
    "\n",
    "# List of columns to keep\n",
    "columns_to_keep = ['Region/Country', 'Second Tier Authority', 'Local Authority', 'Local Authority Code', 'Calendar Year', 'LULUCF Net Emissions']\n",
    "\n",
    "# Add columns that end with \"Total\"\n",
    "columns_to_keep.extend([col for col in west_midlands_data_filtered.columns if col.endswith(\"Total\")])\n",
    "\n",
    "# Filter the dataset for these columns\n",
    "west_midlands_filtered_columns = west_midlands_data_filtered[columns_to_keep]\n",
    "\n",
    "west_midlands_filtered_columns.to_csv('west_midlands_filtered_columns_2.csv')\n",
    "\n",
    "west_midlands_filtered_columns\n",
    "# Load and display the first few rows of the dataset\n",
    "#data = pd.read_csv('west_midlands_filtered_columns_2.csv')\n"
   ]
  },
  {
   "cell_type": "code",
   "execution_count": 8,
   "metadata": {},
   "outputs": [],
   "source": [
    "# Load and display the first few rows of the dataset\n",
    "data = pd.read_csv('west_midlands_filtered_columns_2.csv')"
   ]
  },
  {
   "cell_type": "code",
   "execution_count": 9,
   "metadata": {},
   "outputs": [
    {
     "data": {
      "text/html": [
       "<div>\n",
       "<style scoped>\n",
       "    .dataframe tbody tr th:only-of-type {\n",
       "        vertical-align: middle;\n",
       "    }\n",
       "\n",
       "    .dataframe tbody tr th {\n",
       "        vertical-align: top;\n",
       "    }\n",
       "\n",
       "    .dataframe thead th {\n",
       "        text-align: right;\n",
       "    }\n",
       "</style>\n",
       "<table border=\"1\" class=\"dataframe\">\n",
       "  <thead>\n",
       "    <tr style=\"text-align: right;\">\n",
       "      <th></th>\n",
       "      <th>LULUCF Net Emissions</th>\n",
       "      <th>Industry Total</th>\n",
       "      <th>Commercial Total</th>\n",
       "      <th>Public Sector Total</th>\n",
       "      <th>Domestic Total</th>\n",
       "      <th>Transport Total</th>\n",
       "      <th>Agriculture Total</th>\n",
       "      <th>Waste Management Total</th>\n",
       "      <th>Grand Total</th>\n",
       "    </tr>\n",
       "  </thead>\n",
       "  <tbody>\n",
       "    <tr>\n",
       "      <th>0</th>\n",
       "      <td>13.873543</td>\n",
       "      <td>1216.162658</td>\n",
       "      <td>1170.441473</td>\n",
       "      <td>558.705170</td>\n",
       "      <td>2359.376951</td>\n",
       "      <td>1670.971299</td>\n",
       "      <td>15.128539</td>\n",
       "      <td>54.674741</td>\n",
       "      <td>7059.334372</td>\n",
       "    </tr>\n",
       "    <tr>\n",
       "      <th>1</th>\n",
       "      <td>13.855886</td>\n",
       "      <td>1199.131422</td>\n",
       "      <td>1168.499559</td>\n",
       "      <td>519.502282</td>\n",
       "      <td>2365.574895</td>\n",
       "      <td>1610.744841</td>\n",
       "      <td>15.762343</td>\n",
       "      <td>59.040806</td>\n",
       "      <td>6952.112034</td>\n",
       "    </tr>\n",
       "    <tr>\n",
       "      <th>2</th>\n",
       "      <td>13.477209</td>\n",
       "      <td>1176.697923</td>\n",
       "      <td>1111.410745</td>\n",
       "      <td>492.805750</td>\n",
       "      <td>2283.424290</td>\n",
       "      <td>1621.327790</td>\n",
       "      <td>15.055982</td>\n",
       "      <td>86.322633</td>\n",
       "      <td>6800.522322</td>\n",
       "    </tr>\n",
       "    <tr>\n",
       "      <th>3</th>\n",
       "      <td>12.998567</td>\n",
       "      <td>1175.523168</td>\n",
       "      <td>1143.259246</td>\n",
       "      <td>489.438236</td>\n",
       "      <td>2284.490311</td>\n",
       "      <td>1545.527971</td>\n",
       "      <td>14.784999</td>\n",
       "      <td>78.655141</td>\n",
       "      <td>6744.677640</td>\n",
       "    </tr>\n",
       "    <tr>\n",
       "      <th>4</th>\n",
       "      <td>12.151837</td>\n",
       "      <td>937.944889</td>\n",
       "      <td>945.363805</td>\n",
       "      <td>423.187511</td>\n",
       "      <td>2062.886425</td>\n",
       "      <td>1497.902337</td>\n",
       "      <td>13.508004</td>\n",
       "      <td>206.792247</td>\n",
       "      <td>6099.737055</td>\n",
       "    </tr>\n",
       "    <tr>\n",
       "      <th>...</th>\n",
       "      <td>...</td>\n",
       "      <td>...</td>\n",
       "      <td>...</td>\n",
       "      <td>...</td>\n",
       "      <td>...</td>\n",
       "      <td>...</td>\n",
       "      <td>...</td>\n",
       "      <td>...</td>\n",
       "      <td>...</td>\n",
       "    </tr>\n",
       "    <tr>\n",
       "      <th>505</th>\n",
       "      <td>-22.993660</td>\n",
       "      <td>81.578795</td>\n",
       "      <td>39.204973</td>\n",
       "      <td>18.448410</td>\n",
       "      <td>154.112730</td>\n",
       "      <td>155.081565</td>\n",
       "      <td>33.125984</td>\n",
       "      <td>40.831584</td>\n",
       "      <td>499.390383</td>\n",
       "    </tr>\n",
       "    <tr>\n",
       "      <th>506</th>\n",
       "      <td>-22.677647</td>\n",
       "      <td>99.822820</td>\n",
       "      <td>23.783474</td>\n",
       "      <td>18.025695</td>\n",
       "      <td>149.765460</td>\n",
       "      <td>151.453539</td>\n",
       "      <td>32.343872</td>\n",
       "      <td>37.193140</td>\n",
       "      <td>489.710354</td>\n",
       "    </tr>\n",
       "    <tr>\n",
       "      <th>507</th>\n",
       "      <td>-22.823968</td>\n",
       "      <td>84.767255</td>\n",
       "      <td>22.492546</td>\n",
       "      <td>15.106118</td>\n",
       "      <td>144.241608</td>\n",
       "      <td>146.896973</td>\n",
       "      <td>31.772339</td>\n",
       "      <td>36.456934</td>\n",
       "      <td>458.909804</td>\n",
       "    </tr>\n",
       "    <tr>\n",
       "      <th>508</th>\n",
       "      <td>-23.150931</td>\n",
       "      <td>75.302885</td>\n",
       "      <td>16.067331</td>\n",
       "      <td>14.061786</td>\n",
       "      <td>141.095909</td>\n",
       "      <td>118.871468</td>\n",
       "      <td>30.189129</td>\n",
       "      <td>36.122034</td>\n",
       "      <td>408.559610</td>\n",
       "    </tr>\n",
       "    <tr>\n",
       "      <th>509</th>\n",
       "      <td>-22.956472</td>\n",
       "      <td>80.866997</td>\n",
       "      <td>17.888049</td>\n",
       "      <td>14.582030</td>\n",
       "      <td>144.139487</td>\n",
       "      <td>133.576301</td>\n",
       "      <td>30.605628</td>\n",
       "      <td>37.839211</td>\n",
       "      <td>436.541231</td>\n",
       "    </tr>\n",
       "  </tbody>\n",
       "</table>\n",
       "<p>510 rows × 9 columns</p>\n",
       "</div>"
      ],
      "text/plain": [
       "     LULUCF Net Emissions  Industry Total  Commercial Total  \\\n",
       "0               13.873543     1216.162658       1170.441473   \n",
       "1               13.855886     1199.131422       1168.499559   \n",
       "2               13.477209     1176.697923       1111.410745   \n",
       "3               12.998567     1175.523168       1143.259246   \n",
       "4               12.151837      937.944889        945.363805   \n",
       "..                    ...             ...               ...   \n",
       "505            -22.993660       81.578795         39.204973   \n",
       "506            -22.677647       99.822820         23.783474   \n",
       "507            -22.823968       84.767255         22.492546   \n",
       "508            -23.150931       75.302885         16.067331   \n",
       "509            -22.956472       80.866997         17.888049   \n",
       "\n",
       "     Public Sector Total  Domestic Total  Transport Total  Agriculture Total  \\\n",
       "0             558.705170     2359.376951      1670.971299          15.128539   \n",
       "1             519.502282     2365.574895      1610.744841          15.762343   \n",
       "2             492.805750     2283.424290      1621.327790          15.055982   \n",
       "3             489.438236     2284.490311      1545.527971          14.784999   \n",
       "4             423.187511     2062.886425      1497.902337          13.508004   \n",
       "..                   ...             ...              ...                ...   \n",
       "505            18.448410      154.112730       155.081565          33.125984   \n",
       "506            18.025695      149.765460       151.453539          32.343872   \n",
       "507            15.106118      144.241608       146.896973          31.772339   \n",
       "508            14.061786      141.095909       118.871468          30.189129   \n",
       "509            14.582030      144.139487       133.576301          30.605628   \n",
       "\n",
       "     Waste Management Total  Grand Total  \n",
       "0                 54.674741  7059.334372  \n",
       "1                 59.040806  6952.112034  \n",
       "2                 86.322633  6800.522322  \n",
       "3                 78.655141  6744.677640  \n",
       "4                206.792247  6099.737055  \n",
       "..                      ...          ...  \n",
       "505               40.831584   499.390383  \n",
       "506               37.193140   489.710354  \n",
       "507               36.456934   458.909804  \n",
       "508               36.122034   408.559610  \n",
       "509               37.839211   436.541231  \n",
       "\n",
       "[510 rows x 9 columns]"
      ]
     },
     "execution_count": 9,
     "metadata": {},
     "output_type": "execute_result"
    }
   ],
   "source": [
    "data = data.drop(data.columns[0:6], axis=1)\n",
    "data"
   ]
  },
  {
   "cell_type": "code",
   "execution_count": 10,
   "metadata": {},
   "outputs": [
    {
     "data": {
      "text/html": [
       "<div>\n",
       "<style scoped>\n",
       "    .dataframe tbody tr th:only-of-type {\n",
       "        vertical-align: middle;\n",
       "    }\n",
       "\n",
       "    .dataframe tbody tr th {\n",
       "        vertical-align: top;\n",
       "    }\n",
       "\n",
       "    .dataframe thead th {\n",
       "        text-align: right;\n",
       "    }\n",
       "</style>\n",
       "<table border=\"1\" class=\"dataframe\">\n",
       "  <thead>\n",
       "    <tr style=\"text-align: right;\">\n",
       "      <th></th>\n",
       "      <th>LULUCF Net Emissions</th>\n",
       "      <th>Industry Total</th>\n",
       "      <th>Commercial Total</th>\n",
       "      <th>Public Sector Total</th>\n",
       "      <th>Domestic Total</th>\n",
       "      <th>Transport Total</th>\n",
       "      <th>Agriculture Total</th>\n",
       "      <th>Waste Management Total</th>\n",
       "    </tr>\n",
       "  </thead>\n",
       "  <tbody>\n",
       "    <tr>\n",
       "      <th>0</th>\n",
       "      <td>13.873543</td>\n",
       "      <td>1216.162658</td>\n",
       "      <td>1170.441473</td>\n",
       "      <td>558.705170</td>\n",
       "      <td>2359.376951</td>\n",
       "      <td>1670.971299</td>\n",
       "      <td>15.128539</td>\n",
       "      <td>54.674741</td>\n",
       "    </tr>\n",
       "    <tr>\n",
       "      <th>1</th>\n",
       "      <td>13.855886</td>\n",
       "      <td>1199.131422</td>\n",
       "      <td>1168.499559</td>\n",
       "      <td>519.502282</td>\n",
       "      <td>2365.574895</td>\n",
       "      <td>1610.744841</td>\n",
       "      <td>15.762343</td>\n",
       "      <td>59.040806</td>\n",
       "    </tr>\n",
       "    <tr>\n",
       "      <th>2</th>\n",
       "      <td>13.477209</td>\n",
       "      <td>1176.697923</td>\n",
       "      <td>1111.410745</td>\n",
       "      <td>492.805750</td>\n",
       "      <td>2283.424290</td>\n",
       "      <td>1621.327790</td>\n",
       "      <td>15.055982</td>\n",
       "      <td>86.322633</td>\n",
       "    </tr>\n",
       "    <tr>\n",
       "      <th>3</th>\n",
       "      <td>12.998567</td>\n",
       "      <td>1175.523168</td>\n",
       "      <td>1143.259246</td>\n",
       "      <td>489.438236</td>\n",
       "      <td>2284.490311</td>\n",
       "      <td>1545.527971</td>\n",
       "      <td>14.784999</td>\n",
       "      <td>78.655141</td>\n",
       "    </tr>\n",
       "    <tr>\n",
       "      <th>4</th>\n",
       "      <td>12.151837</td>\n",
       "      <td>937.944889</td>\n",
       "      <td>945.363805</td>\n",
       "      <td>423.187511</td>\n",
       "      <td>2062.886425</td>\n",
       "      <td>1497.902337</td>\n",
       "      <td>13.508004</td>\n",
       "      <td>206.792247</td>\n",
       "    </tr>\n",
       "    <tr>\n",
       "      <th>...</th>\n",
       "      <td>...</td>\n",
       "      <td>...</td>\n",
       "      <td>...</td>\n",
       "      <td>...</td>\n",
       "      <td>...</td>\n",
       "      <td>...</td>\n",
       "      <td>...</td>\n",
       "      <td>...</td>\n",
       "    </tr>\n",
       "    <tr>\n",
       "      <th>505</th>\n",
       "      <td>-22.993660</td>\n",
       "      <td>81.578795</td>\n",
       "      <td>39.204973</td>\n",
       "      <td>18.448410</td>\n",
       "      <td>154.112730</td>\n",
       "      <td>155.081565</td>\n",
       "      <td>33.125984</td>\n",
       "      <td>40.831584</td>\n",
       "    </tr>\n",
       "    <tr>\n",
       "      <th>506</th>\n",
       "      <td>-22.677647</td>\n",
       "      <td>99.822820</td>\n",
       "      <td>23.783474</td>\n",
       "      <td>18.025695</td>\n",
       "      <td>149.765460</td>\n",
       "      <td>151.453539</td>\n",
       "      <td>32.343872</td>\n",
       "      <td>37.193140</td>\n",
       "    </tr>\n",
       "    <tr>\n",
       "      <th>507</th>\n",
       "      <td>-22.823968</td>\n",
       "      <td>84.767255</td>\n",
       "      <td>22.492546</td>\n",
       "      <td>15.106118</td>\n",
       "      <td>144.241608</td>\n",
       "      <td>146.896973</td>\n",
       "      <td>31.772339</td>\n",
       "      <td>36.456934</td>\n",
       "    </tr>\n",
       "    <tr>\n",
       "      <th>508</th>\n",
       "      <td>-23.150931</td>\n",
       "      <td>75.302885</td>\n",
       "      <td>16.067331</td>\n",
       "      <td>14.061786</td>\n",
       "      <td>141.095909</td>\n",
       "      <td>118.871468</td>\n",
       "      <td>30.189129</td>\n",
       "      <td>36.122034</td>\n",
       "    </tr>\n",
       "    <tr>\n",
       "      <th>509</th>\n",
       "      <td>-22.956472</td>\n",
       "      <td>80.866997</td>\n",
       "      <td>17.888049</td>\n",
       "      <td>14.582030</td>\n",
       "      <td>144.139487</td>\n",
       "      <td>133.576301</td>\n",
       "      <td>30.605628</td>\n",
       "      <td>37.839211</td>\n",
       "    </tr>\n",
       "  </tbody>\n",
       "</table>\n",
       "<p>510 rows × 8 columns</p>\n",
       "</div>"
      ],
      "text/plain": [
       "     LULUCF Net Emissions  Industry Total  Commercial Total  \\\n",
       "0               13.873543     1216.162658       1170.441473   \n",
       "1               13.855886     1199.131422       1168.499559   \n",
       "2               13.477209     1176.697923       1111.410745   \n",
       "3               12.998567     1175.523168       1143.259246   \n",
       "4               12.151837      937.944889        945.363805   \n",
       "..                    ...             ...               ...   \n",
       "505            -22.993660       81.578795         39.204973   \n",
       "506            -22.677647       99.822820         23.783474   \n",
       "507            -22.823968       84.767255         22.492546   \n",
       "508            -23.150931       75.302885         16.067331   \n",
       "509            -22.956472       80.866997         17.888049   \n",
       "\n",
       "     Public Sector Total  Domestic Total  Transport Total  Agriculture Total  \\\n",
       "0             558.705170     2359.376951      1670.971299          15.128539   \n",
       "1             519.502282     2365.574895      1610.744841          15.762343   \n",
       "2             492.805750     2283.424290      1621.327790          15.055982   \n",
       "3             489.438236     2284.490311      1545.527971          14.784999   \n",
       "4             423.187511     2062.886425      1497.902337          13.508004   \n",
       "..                   ...             ...              ...                ...   \n",
       "505            18.448410      154.112730       155.081565          33.125984   \n",
       "506            18.025695      149.765460       151.453539          32.343872   \n",
       "507            15.106118      144.241608       146.896973          31.772339   \n",
       "508            14.061786      141.095909       118.871468          30.189129   \n",
       "509            14.582030      144.139487       133.576301          30.605628   \n",
       "\n",
       "     Waste Management Total  \n",
       "0                 54.674741  \n",
       "1                 59.040806  \n",
       "2                 86.322633  \n",
       "3                 78.655141  \n",
       "4                206.792247  \n",
       "..                      ...  \n",
       "505               40.831584  \n",
       "506               37.193140  \n",
       "507               36.456934  \n",
       "508               36.122034  \n",
       "509               37.839211  \n",
       "\n",
       "[510 rows x 8 columns]"
      ]
     },
     "execution_count": 10,
     "metadata": {},
     "output_type": "execute_result"
    }
   ],
   "source": [
    "#data = data.drop(data.columns[:4], axis=1)\n",
    "#df = df[df.columns[:-1]]\n",
    "data = data [data.columns[0:-1]]\n",
    "data"
   ]
  },
  {
   "cell_type": "code",
   "execution_count": 11,
   "metadata": {},
   "outputs": [
    {
     "data": {
      "text/plain": [
       "LULUCF Net Emissions      float64\n",
       "Industry Total            float64\n",
       "Commercial Total          float64\n",
       "Public Sector Total       float64\n",
       "Domestic Total            float64\n",
       "Transport Total           float64\n",
       "Agriculture Total         float64\n",
       "Waste Management Total    float64\n",
       "dtype: object"
      ]
     },
     "execution_count": 11,
     "metadata": {},
     "output_type": "execute_result"
    }
   ],
   "source": [
    "data.dtypes"
   ]
  },
  {
   "cell_type": "code",
   "execution_count": null,
   "metadata": {},
   "outputs": [],
   "source": []
  },
  {
   "cell_type": "code",
   "execution_count": 12,
   "metadata": {},
   "outputs": [
    {
     "data": {
      "image/png": "[encoded data removed]",
      "text/plain": [
       "<Figure size 576x432 with 1 Axes>"
      ]
     },
     "metadata": {
      "needs_background": "light"
     },
     "output_type": "display_data"
    }
   ],
   "source": [
    "import pandas as pd\n",
    "from sklearn.decomposition import PCA\n",
    "from sklearn.preprocessing import StandardScaler\n",
    "import matplotlib.pyplot as plt\n",
    "\n",
    "\n",
    "#data = pd.read_csv('west_midlands_filtered_columns.csv')\n",
    "\n",
    "numerical_data = data.select_dtypes(include=['float64', 'int64'])\n",
    "\n",
    "# Standardize the data \n",
    "scaler = StandardScaler()\n",
    "numerical_data_scaled = scaler.fit_transform(numerical_data)\n",
    "\n",
    "pca = PCA(n_components=2)\n",
    "principal_components = pca.fit_transform(numerical_data_scaled)\n",
    "\n",
    "# Convert the principal components to a DataFrame for easier visualization\n",
    "principal_df = pd.DataFrame(data=principal_components, columns=['Principal Component 1', 'Principal Component 2'])\n",
    "\n",
    "# Plot the first two principal components\n",
    "plt.figure(figsize=(8, 6))\n",
    "plt.scatter(principal_df['Principal Component 1'], principal_df['Principal Component 2'])\n",
    "plt.xlabel('Principal Component 1')\n",
    "plt.ylabel('Principal Component 2')\n",
    "plt.title('PCA of West Midlands Data')\n",
    "plt.show()\n",
    "\n"
   ]
  },
  {
   "cell_type": "code",
   "execution_count": 20,
   "metadata": {},
   "outputs": [
    {
     "data": {
      "text/html": [
       "<div>\n",
       "<style scoped>\n",
       "    .dataframe tbody tr th:only-of-type {\n",
       "        vertical-align: middle;\n",
       "    }\n",
       "\n",
       "    .dataframe tbody tr th {\n",
       "        vertical-align: top;\n",
       "    }\n",
       "\n",
       "    .dataframe thead th {\n",
       "        text-align: right;\n",
       "    }\n",
       "</style>\n",
       "<table border=\"1\" class=\"dataframe\">\n",
       "  <thead>\n",
       "    <tr style=\"text-align: right;\">\n",
       "      <th></th>\n",
       "      <th>Principal Component 1</th>\n",
       "      <th>Principal Component 2</th>\n",
       "    </tr>\n",
       "  </thead>\n",
       "  <tbody>\n",
       "    <tr>\n",
       "      <th>0</th>\n",
       "      <td>12.001855</td>\n",
       "      <td>-1.995915</td>\n",
       "    </tr>\n",
       "    <tr>\n",
       "      <th>1</th>\n",
       "      <td>11.673958</td>\n",
       "      <td>-1.953224</td>\n",
       "    </tr>\n",
       "    <tr>\n",
       "      <th>2</th>\n",
       "      <td>11.415244</td>\n",
       "      <td>-1.781735</td>\n",
       "    </tr>\n",
       "    <tr>\n",
       "      <th>3</th>\n",
       "      <td>11.305038</td>\n",
       "      <td>-1.842314</td>\n",
       "    </tr>\n",
       "    <tr>\n",
       "      <th>4</th>\n",
       "      <td>10.597819</td>\n",
       "      <td>-1.248901</td>\n",
       "    </tr>\n",
       "    <tr>\n",
       "      <th>...</th>\n",
       "      <td>...</td>\n",
       "      <td>...</td>\n",
       "    </tr>\n",
       "    <tr>\n",
       "      <th>505</th>\n",
       "      <td>-1.555177</td>\n",
       "      <td>-0.139210</td>\n",
       "    </tr>\n",
       "    <tr>\n",
       "      <th>506</th>\n",
       "      <td>-1.620862</td>\n",
       "      <td>-0.146450</td>\n",
       "    </tr>\n",
       "    <tr>\n",
       "      <th>507</th>\n",
       "      <td>-1.679348</td>\n",
       "      <td>-0.144978</td>\n",
       "    </tr>\n",
       "    <tr>\n",
       "      <th>508</th>\n",
       "      <td>-1.767924</td>\n",
       "      <td>-0.149595</td>\n",
       "    </tr>\n",
       "    <tr>\n",
       "      <th>509</th>\n",
       "      <td>-1.712544</td>\n",
       "      <td>-0.143478</td>\n",
       "    </tr>\n",
       "  </tbody>\n",
       "</table>\n",
       "<p>510 rows × 2 columns</p>\n",
       "</div>"
      ],
      "text/plain": [
       "     Principal Component 1  Principal Component 2\n",
       "0                12.001855              -1.995915\n",
       "1                11.673958              -1.953224\n",
       "2                11.415244              -1.781735\n",
       "3                11.305038              -1.842314\n",
       "4                10.597819              -1.248901\n",
       "..                     ...                    ...\n",
       "505              -1.555177              -0.139210\n",
       "506              -1.620862              -0.146450\n",
       "507              -1.679348              -0.144978\n",
       "508              -1.767924              -0.149595\n",
       "509              -1.712544              -0.143478\n",
       "\n",
       "[510 rows x 2 columns]"
      ]
     },
     "execution_count": 20,
     "metadata": {},
     "output_type": "execute_result"
    }
   ],
   "source": [
    "principal_df"
   ]
  },
  {
   "cell_type": "code",
   "execution_count": 5,
   "metadata": {},
   "outputs": [
    {
     "data": {
      "image/png": "[encoded data removed]",
      "text/plain": [
       "<Figure size 864x576 with 1 Axes>"
      ]
     },
     "metadata": {
      "needs_background": "light"
     },
     "output_type": "display_data"
    }
   ],
   "source": [
    "import pandas as pd\n",
    "from sklearn.cluster import KMeans\n",
    "import matplotlib.pyplot as plt\n",
    "import seaborn as sns\n",
    "\n",
    "#perform the KMeans\n",
    "kmeans = KMeans(n_clusters=3, random_state=0)\n",
    "principal_df['Cluster'] = kmeans.fit_predict(principal_df[['Principal Component 1','Principal Component 1']])\n",
    "\n",
    "#plotting the visualization\n",
    "plt.figure(figsize=(12, 8))\n",
    "sns.scatterplot(x='Principal Component 1', y='Principal Component 2', hue='Cluster', palette='viridis', data=principal_df, legend='full')\n",
    "\n",
    "#Title and Label\n",
    "plt.title('PCA')\n",
    "plt.xlabel('PC1')\n",
    "plt.ylabel('PC2')\n",
    "plt.legend(title='Cluster')\n",
    "plt.grid(True)\n",
    "plt.show()\n",
    "\n"
   ]
  },
  {
   "cell_type": "code",
   "execution_count": 13,
   "metadata": {},
   "outputs": [
    {
     "data": {
      "image/png": "[encoded data removed]",
      "text/plain": [
       "<Figure size 432x288 with 4 Axes>"
      ]
     },
     "metadata": {
      "needs_background": "light"
     },
     "output_type": "display_data"
    }
   ],
   "source": [
    "import pandas as pd\n",
    "from sklearn.cluster import KMeans\n",
    "import matplotlib.pyplot as plt\n",
    "import seaborn as sns\n",
    "import matplotlib.pyplot as plt\n",
    "\n",
    "pd.plotting.scatter_matrix(principal_df,s=100)\n",
    "plt.show()\n",
    "\n",
    "\n",
    "#perform the KMeans\n",
    "#kmeans = KMeans(n_clusters=3, random_state=0)\n",
    "#principal_df['Cluster'] = kmeans.fit_predict(principal_df[['Principal Component 1','Principal Component 1']])\n",
    "\n",
    "#plotting the visualization\n",
    "#plt.figure(figsize=(12, 8))\n",
    "#sns.scatterplot(x='Principal Component 1', y='Principal Component 2', hue='Cluster', palette='viridis', data=principal_df, legend='full')\n",
    "\n",
    "#Title and Label\n",
    "#plt.title('PCA')\n",
    "#plt.xlabel('PC1')\n",
    "#plt.ylabel('PC2')\n",
    "#plt.legend(title='Cluster')\n",
    "#plt.grid(True)\n",
    "#plt.show()\n"
   ]
  },
  {
   "cell_type": "code",
   "execution_count": 16,
   "metadata": {},
   "outputs": [
    {
     "data": {
      "text/plain": [
       "Text(0, 0.5, 'projection axis 2')"
      ]
     },
     "execution_count": 16,
     "metadata": {},
     "output_type": "execute_result"
    },
    {
     "data": {
      "image/png": "[encoded data removed]",
      "text/plain": [
       "<Figure size 432x288 with 1 Axes>"
      ]
     },
     "metadata": {
      "needs_background": "light"
     },
     "output_type": "display_data"
    }
   ],
   "source": [
    "pca= PCA(n_components=2)\n",
    "X=pca.fit_transform(principal_df)\n",
    "fig = plt.figure()\n",
    "\n",
    "plt.scatter(X[:,0], X[:,1])\n",
    "plt.xlabel('projection axis 1')\n",
    "plt.ylabel('projection axis 2')"
   ]
  },
  {
   "cell_type": "code",
   "execution_count": 21,
   "metadata": {},
   "outputs": [
    {
     "name": "stderr",
     "output_type": "stream",
     "text": [
      "c:\\Users\\FEMI\\anaconda3\\anaconda4\\lib\\site-packages\\sklearn\\manifold\\_t_sne.py:780: FutureWarning: The default initialization in TSNE will change from 'random' to 'pca' in 1.2.\n",
      "  warnings.warn(\n",
      "c:\\Users\\FEMI\\anaconda3\\anaconda4\\lib\\site-packages\\sklearn\\manifold\\_t_sne.py:790: FutureWarning: The default learning rate in TSNE will change from 200.0 to 'auto' in 1.2.\n",
      "  warnings.warn(\n"
     ]
    },
    {
     "data": {
      "text/plain": [
       "<Figure size 432x288 with 0 Axes>"
      ]
     },
     "execution_count": 21,
     "metadata": {},
     "output_type": "execute_result"
    },
    {
     "data": {
      "image/png": "[encoded data removed]",
      "text/plain": [
       "<Figure size 432x288 with 1 Axes>"
      ]
     },
     "metadata": {
      "needs_background": "light"
     },
     "output_type": "display_data"
    },
    {
     "data": {
      "text/plain": [
       "<Figure size 432x288 with 0 Axes>"
      ]
     },
     "metadata": {},
     "output_type": "display_data"
    }
   ],
   "source": [
    "from sklearn.manifold import TSNE\n",
    "X_tsne = TSNE(n_components=2).fit_transform(principal_df)\n",
    "\n",
    "plt.figure()\n",
    "plt.scatter(X_tsne[:,0],X_tsne[:,1])\n",
    "plt.figure()\n"
   ]
  },
  {
   "cell_type": "code",
   "execution_count": 24,
   "metadata": {},
   "outputs": [
    {
     "data": {
      "text/plain": [
       "<matplotlib.collections.PathCollection at 0x1ae487e8f70>"
      ]
     },
     "execution_count": 24,
     "metadata": {},
     "output_type": "execute_result"
    },
    {
     "data": {
      "image/png": "[encoded data removed]",
      "text/plain": [
       "<Figure size 432x288 with 1 Axes>"
      ]
     },
     "metadata": {
      "needs_background": "light"
     },
     "output_type": "display_data"
    }
   ],
   "source": [
    "from sklearn.decomposition import KernelPCA\n",
    "kpca = KernelPCA(kernel='rbf', gamma=8)\n",
    "X_kpca = kpca.fit_transform(principal_df)\n",
    "plt.figure()\n",
    "plt.scatter(X_kpca[:,0],X_kpca[:,1])"
   ]
  },
  {
   "cell_type": "code",
   "execution_count": 28,
   "metadata": {},
   "outputs": [
    {
     "ename": "NameError",
     "evalue": "name 'labs' is not defined",
     "output_type": "error",
     "traceback": [
      "\u001b[1;31m---------------------------------------------------------------------------\u001b[0m",
      "\u001b[1;31mNameError\u001b[0m                                 Traceback (most recent call last)",
      "\u001b[1;32mc:\\Users\\FEMI\\OneDrive - Aston University\\Projects\\IDAN\\West Midlands DataSet\\LSTM.ipynb Cell 15\u001b[0m in \u001b[0;36m<cell line: 3>\u001b[1;34m()\u001b[0m\n\u001b[0;32m      <a href='vscode-notebook-cell:/c%3A/Users/FEMI/OneDrive%20-%20Aston%20University/Projects/IDAN/West%20Midlands%20DataSet/LSTM.ipynb#X64sZmlsZQ%3D%3D?line=0'>1</a>\u001b[0m \u001b[39mfrom\u001b[39;00m \u001b[39msklearn\u001b[39;00m\u001b[39m.\u001b[39;00m\u001b[39mdiscriminant_analysis\u001b[39;00m \u001b[39mimport\u001b[39;00m LinearDiscriminantAnalysis\n\u001b[0;32m      <a href='vscode-notebook-cell:/c%3A/Users/FEMI/OneDrive%20-%20Aston%20University/Projects/IDAN/West%20Midlands%20DataSet/LSTM.ipynb#X64sZmlsZQ%3D%3D?line=1'>2</a>\u001b[0m clf \u001b[39m=\u001b[39m LinearDiscriminantAnalysis(n_components\u001b[39m=\u001b[39m\u001b[39m2\u001b[39m)\n\u001b[1;32m----> <a href='vscode-notebook-cell:/c%3A/Users/FEMI/OneDrive%20-%20Aston%20University/Projects/IDAN/West%20Midlands%20DataSet/LSTM.ipynb#X64sZmlsZQ%3D%3D?line=2'>3</a>\u001b[0m X_LDA \u001b[39m=\u001b[39m clf\u001b[39m.\u001b[39mfit_transform(principal_df,labs)\n\u001b[0;32m      <a href='vscode-notebook-cell:/c%3A/Users/FEMI/OneDrive%20-%20Aston%20University/Projects/IDAN/West%20Midlands%20DataSet/LSTM.ipynb#X64sZmlsZQ%3D%3D?line=3'>4</a>\u001b[0m plt\u001b[39m.\u001b[39mfigure()\n\u001b[0;32m      <a href='vscode-notebook-cell:/c%3A/Users/FEMI/OneDrive%20-%20Aston%20University/Projects/IDAN/West%20Midlands%20DataSet/LSTM.ipynb#X64sZmlsZQ%3D%3D?line=4'>5</a>\u001b[0m plt\u001b[39m.\u001b[39mscatter(X_LDA[:,\u001b[39m0\u001b[39m], X_LDA[:,\u001b[39m1\u001b[39m])\n",
      "\u001b[1;31mNameError\u001b[0m: name 'labs' is not defined"
     ]
    }
   ],
   "source": [
    "from sklearn.discriminant_analysis import LinearDiscriminantAnalysis\n",
    "clf = LinearDiscriminantAnalysis(n_components=2)\n",
    "X_LDA = clf.fit_transform(principal_df,labs)\n",
    "plt.figure()\n",
    "plt.scatter(X_LDA[:,0], X_LDA[:,1])\n",
    "\n",
    "\n"
   ]
  },
  {
   "cell_type": "code",
   "execution_count": null,
   "metadata": {},
   "outputs": [],
   "source": []
  },
  {
   "cell_type": "code",
   "execution_count": null,
   "metadata": {},
   "outputs": [],
   "source": []
  },
  {
   "cell_type": "code",
   "execution_count": null,
   "metadata": {},
   "outputs": [],
   "source": []
  },
  {
   "cell_type": "code",
   "execution_count": null,
   "metadata": {},
   "outputs": [],
   "source": []
  },
  {
   "cell_type": "code",
   "execution_count": null,
   "metadata": {},
   "outputs": [],
   "source": []
  },
  {
   "cell_type": "code",
   "execution_count": 22,
   "metadata": {},
   "outputs": [
    {
     "data": {
      "text/plain": [
       "(array([[1.        ],\n",
       "        [0.98424432],\n",
       "        [0.96196912],\n",
       "        [0.95376308],\n",
       "        [0.85899294]]),\n",
       " array([[0.10324605],\n",
       "        [0.10462509],\n",
       "        [0.11172233],\n",
       "        [0.10469583],\n",
       "        [0.09716215]]))"
      ]
     },
     "execution_count": 22,
     "metadata": {},
     "output_type": "execute_result"
    }
   ],
   "source": [
    "from sklearn.preprocessing import MinMaxScaler\n",
    "from sklearn.model_selection import train_test_split\n",
    "\n",
    "# Extracting the 'Grand Total' column\n",
    "series = data['Grand Total'].values.reshape(-1, 1)\n",
    "\n",
    "# Split the data into training and test sets (80% train, 20% test)\n",
    "train_size = int(len(series) * 0.8)\n",
    "train, test = series[0:train_size], series[train_size:len(series)]\n",
    "\n",
    "# Scale the data\n",
    "scaler = MinMaxScaler(feature_range=(0, 1))\n",
    "scaled_train = scaler.fit_transform(train)\n",
    "scaled_test = scaler.transform(test)\n",
    "\n",
    "scaled_train[:5], scaled_test[:5]\n"
   ]
  },
  {
   "cell_type": "code",
   "execution_count": 23,
   "metadata": {},
   "outputs": [
    {
     "data": {
      "text/plain": [
       "(array([[1.        , 0.98424432, 0.96196912],\n",
       "        [0.98424432, 0.96196912, 0.95376308],\n",
       "        [0.96196912, 0.95376308, 0.85899294],\n",
       "        [0.95376308, 0.85899294, 0.90499629],\n",
       "        [0.85899294, 0.90499629, 0.81581644]]),\n",
       " array([0.95376308, 0.85899294, 0.90499629, 0.81581644, 0.85827451]))"
      ]
     },
     "execution_count": 23,
     "metadata": {},
     "output_type": "execute_result"
    }
   ],
   "source": [
    "def create_dataset(dataset, n_steps=1):\n",
    "    \"\"\"\n",
    "    Convert a time series dataset into a supervised learning dataset.\n",
    "    \"\"\"\n",
    "    dataX, dataY = [], []\n",
    "    for i in range(len(dataset) - n_steps):\n",
    "        dataX.append(dataset[i:(i + n_steps), 0])\n",
    "        dataY.append(dataset[i + n_steps, 0])\n",
    "    return np.array(dataX), np.array(dataY)\n",
    "\n",
    "import numpy as np\n",
    "\n",
    "# Number of previous time steps to use as input features\n",
    "n_steps = 3\n",
    "\n",
    "# Transform the train and test datasets into supervised learning datasets\n",
    "X_train, y_train = create_dataset(scaled_train, n_steps)\n",
    "X_test, y_test = create_dataset(scaled_test, n_steps)\n",
    "\n",
    "X_train[:5], y_train[:5]\n"
   ]
  },
  {
   "cell_type": "code",
   "execution_count": 24,
   "metadata": {
    "scrolled": true
   },
   "outputs": [
    {
     "data": {
      "image/png": "[encoded data removed]",
      "text/plain": [
       "<Figure size 1000x600 with 1 Axes>"
      ]
     },
     "metadata": {},
     "output_type": "display_data"
    }
   ],
   "source": [
    "from keras.models import Sequential\n",
    "from keras.layers import Dense, LSTM\n",
    "import matplotlib.pyplot as plt\n",
    "\n",
    "# Reshape the input data to [samples, time_steps, features]\n",
    "X_train_reshaped = X_train.reshape(X_train.shape[0], X_train.shape[1], 1)\n",
    "X_test_reshaped = X_test.reshape(X_test.shape[0], X_test.shape[1], 1)\n",
    "\n",
    "# Define the LSTM model architecture\n",
    "model = Sequential()\n",
    "model.add(LSTM(50, activation='relu', input_shape=(n_steps, 1)))\n",
    "model.add(Dense(1))\n",
    "model.compile(optimizer='adam', loss='mse')\n",
    "\n",
    "# Train the model\n",
    "history = model.fit(X_train_reshaped, y_train, epochs=100, verbose=0, validation_data=(X_test_reshaped, y_test))\n",
    "\n",
    "# Plot the training and validation loss\n",
    "plt.figure(figsize=(10, 6))\n",
    "plt.plot(history.history['loss'], label='Training Loss')\n",
    "plt.plot(history.history['val_loss'], label='Validation Loss')\n",
    "plt.title('LSTM Model Training and Validation Loss')\n",
    "plt.xlabel('Epoch')\n",
    "plt.ylabel('Mean Squared Error (MSE)')\n",
    "plt.legend()\n",
    "plt.grid(True)\n",
    "plt.show()\n"
   ]
  },
  {
   "cell_type": "markdown",
   "metadata": {},
   "source": [
    "Using the provided loss values for both training and validation, we can plot them to visualize the model's training process. This will help us understand how the model performed over the epochs.\n",
    "\n",
    "From the plot, we can observe that:\n",
    "- The training loss steadily decreases, indicating that the model is learning and fitting to the training data.\n",
    "- The validation loss decreases initially but then exhibits some fluctuations. This indicates that while the model is generalizing well to the test data in the beginning, there might be some overfitting happening in the later epochs.\n",
    "\n"
   ]
  },
  {
   "cell_type": "code",
   "execution_count": 25,
   "metadata": {},
   "outputs": [
    {
     "name": "stdout",
     "output_type": "stream",
     "text": [
      "4/4 [==============================] - 0s 3ms/step\n"
     ]
    }
   ],
   "source": [
    "predicted_values = model.predict(X_test_reshaped)"
   ]
  },
  {
   "cell_type": "code",
   "execution_count": 26,
   "metadata": {},
   "outputs": [
    {
     "name": "stdout",
     "output_type": "stream",
     "text": [
      "4/4 [==============================] - 0s 2ms/step\n",
      "Mean Absolute Error: 142.51\n"
     ]
    }
   ],
   "source": [
    "# Predict the test data\n",
    "y_pred = model.predict(X_test_reshaped)\n",
    "\n",
    "# Invert the scaling of the predictions and the test data\n",
    "y_pred_inv = scaler.inverse_transform(y_pred)\n",
    "y_test_inv = scaler.inverse_transform(y_test.reshape(-1, 1))\n",
    "\n",
    "# Calculate the MAE\n",
    "mae = np.mean(np.abs(y_test_inv - y_pred_inv))\n",
    "print(f'Mean Absolute Error: {mae:.2f}')\n"
   ]
  },
  {
   "cell_type": "code",
   "execution_count": 27,
   "metadata": {},
   "outputs": [
    {
     "name": "stdout",
     "output_type": "stream",
     "text": [
      "4/4 [==============================] - 0s 3ms/step\n",
      "MSE: 31989.90920031973\n",
      "RMSE: 178.8572313335967\n",
      "MAE: 142.51186616964068\n",
      "MAPE: 23.07488087409924%\n"
     ]
    }
   ],
   "source": [
    "from sklearn.metrics import mean_squared_error, mean_absolute_error\n",
    "\n",
    "def compute_metrics(actual, predicted):\n",
    "\n",
    "    # Mean Squared Error\n",
    "    mse = mean_squared_error(actual, predicted)\n",
    "    \n",
    "    # Root Mean Squared Error\n",
    "    rmse = np.sqrt(mse)\n",
    "    \n",
    "    # Mean Absolute Error\n",
    "    mae = mean_absolute_error(actual, predicted)\n",
    "    \n",
    "    # Mean Absolute Percentage Error\n",
    "    mape = np.mean(np.abs((actual - predicted) / actual)) * 100\n",
    "    \n",
    "    return mse, rmse, mae, mape\n",
    "\n",
    "\n",
    "compute_metrics\n",
    "\n",
    "# 1. Predict using the trained model on the test data\n",
    "y_pred = model.predict(X_test_reshaped)\n",
    "\n",
    "# 2. Inverse scale the predicted and actual values\n",
    "predicted_values_original_scale = scaler.inverse_transform(y_pred)\n",
    "y_test_original_scale = scaler.inverse_transform(y_test.reshape(-1, 1))\n",
    "\n",
    "\n",
    "# 3. Compute metrics using the provided `compute_metrics` function\n",
    "mse, rmse, mae, mape = compute_metrics(y_test_original_scale, predicted_values_original_scale)\n",
    "print(f\"MSE: {mse}\")\n",
    "print(f\"RMSE: {rmse}\")\n",
    "print(f\"MAE: {mae}\")\n",
    "print(f\"MAPE: {mape}%\")\n"
   ]
  },
  {
   "cell_type": "markdown",
   "metadata": {},
   "source": [
    "A brief interpretation:\n",
    "\n",
    "- MSE (Mean Squared Error): \\(29967.17\\) - On average, each squared difference between the predicted and actual values is about 29967.17. This metric gives more weight to larger errors.\n",
    "  \n",
    "- RMSE (Root Mean Squared Error): \\(173.11\\) - This gives a sense of the magnitude of the error in the same unit as the output. It's useful for understanding the size of the errors the model typically makes.\n",
    "  \n",
    "- MAE (Mean Absolute Error): \\(131.89\\) - On average, the absolute difference between the predicted and actual values is about 131.89. This gives a linear penalty to errors.\n",
    "  \n",
    "- MAPE (Mean Absolute Percentage Error): \\(18.44\\%\\) - On average, the model's predictions are off by about 18.44% from the actual values.\n",
    "\n",
    "These metrics provide insights into how well the LSTM model is performing."
   ]
  },
  {
   "cell_type": "code",
   "execution_count": 28,
   "metadata": {},
   "outputs": [
    {
     "name": "stdout",
     "output_type": "stream",
     "text": [
      "Requirement already satisfied: optuna in c:\\users\\olajide\\anaconda3\\lib\\site-packages (3.3.0)\n",
      "Requirement already satisfied: tqdm in c:\\users\\olajide\\anaconda3\\lib\\site-packages (from optuna) (4.64.1)\n",
      "Requirement already satisfied: cmaes>=0.10.0 in c:\\users\\olajide\\anaconda3\\lib\\site-packages (from optuna) (0.10.0)\n",
      "Requirement already satisfied: colorlog in c:\\users\\olajide\\anaconda3\\lib\\site-packages (from optuna) (6.7.0)\n",
      "Requirement already satisfied: packaging>=20.0 in c:\\users\\olajide\\anaconda3\\lib\\site-packages (from optuna) (22.0)\n",
      "Requirement already satisfied: numpy in c:\\users\\olajide\\anaconda3\\lib\\site-packages (from optuna) (1.23.5)\n",
      "Requirement already satisfied: sqlalchemy>=1.3.0 in c:\\users\\olajide\\anaconda3\\lib\\site-packages (from optuna) (1.4.39)\n",
      "Requirement already satisfied: alembic>=1.5.0 in c:\\users\\olajide\\anaconda3\\lib\\site-packages (from optuna) (1.12.0)\n",
      "Requirement already satisfied: PyYAML in c:\\users\\olajide\\anaconda3\\lib\\site-packages (from optuna) (6.0)\n",
      "Requirement already satisfied: typing-extensions>=4 in c:\\users\\olajide\\anaconda3\\lib\\site-packages (from alembic>=1.5.0->optuna) (4.4.0)\n",
      "Requirement already satisfied: Mako in c:\\users\\olajide\\anaconda3\\lib\\site-packages (from alembic>=1.5.0->optuna) (1.2.4)\n",
      "Requirement already satisfied: greenlet!=0.4.17 in c:\\users\\olajide\\anaconda3\\lib\\site-packages (from sqlalchemy>=1.3.0->optuna) (2.0.1)\n",
      "Requirement already satisfied: colorama in c:\\users\\olajide\\anaconda3\\lib\\site-packages (from colorlog->optuna) (0.4.6)\n",
      "Requirement already satisfied: MarkupSafe>=0.9.2 in c:\\users\\olajide\\anaconda3\\lib\\site-packages (from Mako->alembic>=1.5.0->optuna) (2.1.1)\n",
      "Note: you may need to restart the kernel to use updated packages.\n"
     ]
    }
   ],
   "source": [
    "pip install optuna\n"
   ]
  },
  {
   "cell_type": "code",
   "execution_count": 30,
   "metadata": {},
   "outputs": [],
   "source": [
    "import optuna\n",
    "from keras.models import Sequential\n",
    "from keras.layers import LSTM, Dense, Dropout\n",
    "\n",
    "def objective(trial):\n",
    "    # Hyperparameters to be tuned\n",
    "    lstm_units = trial.suggest_int('lstm_units', 10, 100)\n",
    "    dropout_rate = trial.suggest_float('dropout_rate', 0.0, 0.5)\n",
    "    learning_rate = trial.suggest_loguniform('learning_rate', 1e-5, 1e-2)\n",
    "    batch_size = trial.suggest_categorical('batch_size', [8, 16, 32, 64])\n",
    "    \n",
    "    model = Sequential()\n",
    "    model.add(LSTM(units=lstm_units, activation='relu', input_shape=(X_train_reshaped.shape[1], 1)))\n",
    "    model.add(Dropout(dropout_rate))\n",
    "    model.add(Dense(1))\n",
    "    \n",
    "    model.compile(optimizer=keras.optimizers.Adam(learning_rate=learning_rate), loss='mse')\n",
    "    \n",
    "    history = model.fit(X_train_reshaped, y_train, batch_size=batch_size, epochs=50, validation_data=(X_test_reshaped, y_test), verbose=0)\n",
    "    \n",
    "    # Use validation loss as the metric to optimize\n",
    "    val_loss = history.history['val_loss'][-1]\n",
    "    return val_loss\n",
    "\n",
    "    \n"
   ]
  },
  {
   "cell_type": "code",
   "execution_count": null,
   "metadata": {},
   "outputs": [],
   "source": []
  },
  {
   "cell_type": "code",
   "execution_count": null,
   "metadata": {},
   "outputs": [],
   "source": []
  },
  {
   "cell_type": "code",
   "execution_count": null,
   "metadata": {},
   "outputs": [],
   "source": []
  },
  {
   "cell_type": "code",
   "execution_count": null,
   "metadata": {},
   "outputs": [],
   "source": []
  },
  {
   "cell_type": "code",
   "execution_count": null,
   "metadata": {},
   "outputs": [],
   "source": []
  },
  {
   "cell_type": "code",
   "execution_count": null,
   "metadata": {},
   "outputs": [],
   "source": []
  },
  {
   "cell_type": "code",
   "execution_count": 14,
   "metadata": {},
   "outputs": [
    {
     "name": "stdout",
     "output_type": "stream",
     "text": [
      "Requirement already satisfied: keras in c:\\users\\olajide\\anaconda3\\lib\\site-packages (2.10.0)\n",
      "Note: you may need to restart the kernel to use updated packages.\n"
     ]
    }
   ],
   "source": [
    "pip install keras"
   ]
  },
  {
   "cell_type": "code",
   "execution_count": 15,
   "metadata": {},
   "outputs": [
    {
     "name": "stderr",
     "output_type": "stream",
     "text": [
      "[I 2023-09-25 15:21:02,038] A new study created in memory with name: no-name-92822764-3e8c-42a3-bd4b-0a28509aa928\n",
      "C:\\Users\\Olajide\\AppData\\Local\\Temp\\ipykernel_23372\\3200027950.py:9: FutureWarning: suggest_loguniform has been deprecated in v3.0.0. This feature will be removed in v6.0.0. See https://github.com/optuna/optuna/releases/tag/v3.0.0. Use suggest_float(..., log=True) instead.\n",
      "  learning_rate = trial.suggest_loguniform('learning_rate', 1e-5, 1e-2)\n",
      "[W 2023-09-25 15:21:02,307] Trial 0 failed with parameters: {'lstm_units': 83, 'dropout_rate': 0.28295970202185294, 'learning_rate': 0.004639765841936397, 'batch_size': 8} because of the following error: NameError(\"name 'keras' is not defined\").\n",
      "Traceback (most recent call last):\n",
      "  File \"c:\\Users\\Olajide\\anaconda3\\lib\\site-packages\\optuna\\study\\_optimize.py\", line 200, in _run_trial\n",
      "    value_or_values = func(trial)\n",
      "  File \"C:\\Users\\Olajide\\AppData\\Local\\Temp\\ipykernel_23372\\3200027950.py\", line 17, in objective\n",
      "    model.compile(optimizer=keras.optimizers.Adam(learning_rate=learning_rate), loss='mse')\n",
      "NameError: name 'keras' is not defined\n",
      "[W 2023-09-25 15:21:02,310] Trial 0 failed with value None.\n"
     ]
    },
    {
     "ename": "NameError",
     "evalue": "name 'keras' is not defined",
     "output_type": "error",
     "traceback": [
      "\u001b[1;31m---------------------------------------------------------------------------\u001b[0m",
      "\u001b[1;31mNameError\u001b[0m                                 Traceback (most recent call last)",
      "\u001b[1;32mc:\\Users\\Olajide\\OneDrive - Aston University\\Projects\\IDAN\\West Midlands DataSet\\LSTM.ipynb Cell 13\u001b[0m line \u001b[0;36m5\n\u001b[0;32m      <a href='vscode-notebook-cell:/c%3A/Users/Olajide/OneDrive%20-%20Aston%20University/Projects/IDAN/West%20Midlands%20DataSet/LSTM.ipynb#X25sZmlsZQ%3D%3D?line=1'>2</a>\u001b[0m \u001b[39mimport\u001b[39;00m \u001b[39moptuna\u001b[39;00m\n\u001b[0;32m      <a href='vscode-notebook-cell:/c%3A/Users/Olajide/OneDrive%20-%20Aston%20University/Projects/IDAN/West%20Midlands%20DataSet/LSTM.ipynb#X25sZmlsZQ%3D%3D?line=3'>4</a>\u001b[0m study \u001b[39m=\u001b[39m optuna\u001b[39m.\u001b[39mcreate_study(direction\u001b[39m=\u001b[39m\u001b[39m'\u001b[39m\u001b[39mminimize\u001b[39m\u001b[39m'\u001b[39m)  \u001b[39m# We want to minimize the validation loss\u001b[39;00m\n\u001b[1;32m----> <a href='vscode-notebook-cell:/c%3A/Users/Olajide/OneDrive%20-%20Aston%20University/Projects/IDAN/West%20Midlands%20DataSet/LSTM.ipynb#X25sZmlsZQ%3D%3D?line=4'>5</a>\u001b[0m study\u001b[39m.\u001b[39;49moptimize(objective, n_trials\u001b[39m=\u001b[39;49m\u001b[39m50\u001b[39;49m)  \u001b[39m# You can increase n_trials for a more exhaustive search\u001b[39;00m\n\u001b[0;32m      <a href='vscode-notebook-cell:/c%3A/Users/Olajide/OneDrive%20-%20Aston%20University/Projects/IDAN/West%20Midlands%20DataSet/LSTM.ipynb#X25sZmlsZQ%3D%3D?line=6'>7</a>\u001b[0m \u001b[39mprint\u001b[39m(\u001b[39m'\u001b[39m\u001b[39mBest hyperparameters: \u001b[39m\u001b[39m'\u001b[39m, study\u001b[39m.\u001b[39mbest_params)\n\u001b[0;32m      <a href='vscode-notebook-cell:/c%3A/Users/Olajide/OneDrive%20-%20Aston%20University/Projects/IDAN/West%20Midlands%20DataSet/LSTM.ipynb#X25sZmlsZQ%3D%3D?line=8'>9</a>\u001b[0m model\u001b[39m.\u001b[39mcompile(optimizer\u001b[39m=\u001b[39mtf\u001b[39m.\u001b[39mkeras\u001b[39m.\u001b[39moptimizers\u001b[39m.\u001b[39mAdam(learning_rate\u001b[39m=\u001b[39mlearning_rate), loss\u001b[39m=\u001b[39m\u001b[39m'\u001b[39m\u001b[39mmse\u001b[39m\u001b[39m'\u001b[39m)\n",
      "File \u001b[1;32mc:\\Users\\Olajide\\anaconda3\\lib\\site-packages\\optuna\\study\\study.py:442\u001b[0m, in \u001b[0;36mStudy.optimize\u001b[1;34m(self, func, n_trials, timeout, n_jobs, catch, callbacks, gc_after_trial, show_progress_bar)\u001b[0m\n\u001b[0;32m    339\u001b[0m \u001b[39mdef\u001b[39;00m \u001b[39moptimize\u001b[39m(\n\u001b[0;32m    340\u001b[0m     \u001b[39mself\u001b[39m,\n\u001b[0;32m    341\u001b[0m     func: ObjectiveFuncType,\n\u001b[1;32m   (...)\u001b[0m\n\u001b[0;32m    348\u001b[0m     show_progress_bar: \u001b[39mbool\u001b[39m \u001b[39m=\u001b[39m \u001b[39mFalse\u001b[39;00m,\n\u001b[0;32m    349\u001b[0m ) \u001b[39m-\u001b[39m\u001b[39m>\u001b[39m \u001b[39mNone\u001b[39;00m:\n\u001b[0;32m    350\u001b[0m     \u001b[39m\"\"\"Optimize an objective function.\u001b[39;00m\n\u001b[0;32m    351\u001b[0m \n\u001b[0;32m    352\u001b[0m \u001b[39m    Optimization is done by choosing a suitable set of hyperparameter values from a given\u001b[39;00m\n\u001b[1;32m   (...)\u001b[0m\n\u001b[0;32m    440\u001b[0m \u001b[39m            If nested invocation of this method occurs.\u001b[39;00m\n\u001b[0;32m    441\u001b[0m \u001b[39m    \"\"\"\u001b[39;00m\n\u001b[1;32m--> 442\u001b[0m     _optimize(\n\u001b[0;32m    443\u001b[0m         study\u001b[39m=\u001b[39;49m\u001b[39mself\u001b[39;49m,\n\u001b[0;32m    444\u001b[0m         func\u001b[39m=\u001b[39;49mfunc,\n\u001b[0;32m    445\u001b[0m         n_trials\u001b[39m=\u001b[39;49mn_trials,\n\u001b[0;32m    446\u001b[0m         timeout\u001b[39m=\u001b[39;49mtimeout,\n\u001b[0;32m    447\u001b[0m         n_jobs\u001b[39m=\u001b[39;49mn_jobs,\n\u001b[0;32m    448\u001b[0m         catch\u001b[39m=\u001b[39;49m\u001b[39mtuple\u001b[39;49m(catch) \u001b[39mif\u001b[39;49;00m \u001b[39misinstance\u001b[39;49m(catch, Iterable) \u001b[39melse\u001b[39;49;00m (catch,),\n\u001b[0;32m    449\u001b[0m         callbacks\u001b[39m=\u001b[39;49mcallbacks,\n\u001b[0;32m    450\u001b[0m         gc_after_trial\u001b[39m=\u001b[39;49mgc_after_trial,\n\u001b[0;32m    451\u001b[0m         show_progress_bar\u001b[39m=\u001b[39;49mshow_progress_bar,\n\u001b[0;32m    452\u001b[0m     )\n",
      "File \u001b[1;32mc:\\Users\\Olajide\\anaconda3\\lib\\site-packages\\optuna\\study\\_optimize.py:66\u001b[0m, in \u001b[0;36m_optimize\u001b[1;34m(study, func, n_trials, timeout, n_jobs, catch, callbacks, gc_after_trial, show_progress_bar)\u001b[0m\n\u001b[0;32m     64\u001b[0m \u001b[39mtry\u001b[39;00m:\n\u001b[0;32m     65\u001b[0m     \u001b[39mif\u001b[39;00m n_jobs \u001b[39m==\u001b[39m \u001b[39m1\u001b[39m:\n\u001b[1;32m---> 66\u001b[0m         _optimize_sequential(\n\u001b[0;32m     67\u001b[0m             study,\n\u001b[0;32m     68\u001b[0m             func,\n\u001b[0;32m     69\u001b[0m             n_trials,\n\u001b[0;32m     70\u001b[0m             timeout,\n\u001b[0;32m     71\u001b[0m             catch,\n\u001b[0;32m     72\u001b[0m             callbacks,\n\u001b[0;32m     73\u001b[0m             gc_after_trial,\n\u001b[0;32m     74\u001b[0m             reseed_sampler_rng\u001b[39m=\u001b[39;49m\u001b[39mFalse\u001b[39;49;00m,\n\u001b[0;32m     75\u001b[0m             time_start\u001b[39m=\u001b[39;49m\u001b[39mNone\u001b[39;49;00m,\n\u001b[0;32m     76\u001b[0m             progress_bar\u001b[39m=\u001b[39;49mprogress_bar,\n\u001b[0;32m     77\u001b[0m         )\n\u001b[0;32m     78\u001b[0m     \u001b[39melse\u001b[39;00m:\n\u001b[0;32m     79\u001b[0m         \u001b[39mif\u001b[39;00m n_jobs \u001b[39m==\u001b[39m \u001b[39m-\u001b[39m\u001b[39m1\u001b[39m:\n",
      "File \u001b[1;32mc:\\Users\\Olajide\\anaconda3\\lib\\site-packages\\optuna\\study\\_optimize.py:163\u001b[0m, in \u001b[0;36m_optimize_sequential\u001b[1;34m(study, func, n_trials, timeout, catch, callbacks, gc_after_trial, reseed_sampler_rng, time_start, progress_bar)\u001b[0m\n\u001b[0;32m    160\u001b[0m         \u001b[39mbreak\u001b[39;00m\n\u001b[0;32m    162\u001b[0m \u001b[39mtry\u001b[39;00m:\n\u001b[1;32m--> 163\u001b[0m     frozen_trial \u001b[39m=\u001b[39m _run_trial(study, func, catch)\n\u001b[0;32m    164\u001b[0m \u001b[39mfinally\u001b[39;00m:\n\u001b[0;32m    165\u001b[0m     \u001b[39m# The following line mitigates memory problems that can be occurred in some\u001b[39;00m\n\u001b[0;32m    166\u001b[0m     \u001b[39m# environments (e.g., services that use computing containers such as GitHub Actions).\u001b[39;00m\n\u001b[0;32m    167\u001b[0m     \u001b[39m# Please refer to the following PR for further details:\u001b[39;00m\n\u001b[0;32m    168\u001b[0m     \u001b[39m# https://github.com/optuna/optuna/pull/325.\u001b[39;00m\n\u001b[0;32m    169\u001b[0m     \u001b[39mif\u001b[39;00m gc_after_trial:\n",
      "File \u001b[1;32mc:\\Users\\Olajide\\anaconda3\\lib\\site-packages\\optuna\\study\\_optimize.py:251\u001b[0m, in \u001b[0;36m_run_trial\u001b[1;34m(study, func, catch)\u001b[0m\n\u001b[0;32m    244\u001b[0m         \u001b[39massert\u001b[39;00m \u001b[39mFalse\u001b[39;00m, \u001b[39m\"\u001b[39m\u001b[39mShould not reach.\u001b[39m\u001b[39m\"\u001b[39m\n\u001b[0;32m    246\u001b[0m \u001b[39mif\u001b[39;00m (\n\u001b[0;32m    247\u001b[0m     frozen_trial\u001b[39m.\u001b[39mstate \u001b[39m==\u001b[39m TrialState\u001b[39m.\u001b[39mFAIL\n\u001b[0;32m    248\u001b[0m     \u001b[39mand\u001b[39;00m func_err \u001b[39mis\u001b[39;00m \u001b[39mnot\u001b[39;00m \u001b[39mNone\u001b[39;00m\n\u001b[0;32m    249\u001b[0m     \u001b[39mand\u001b[39;00m \u001b[39mnot\u001b[39;00m \u001b[39misinstance\u001b[39m(func_err, catch)\n\u001b[0;32m    250\u001b[0m ):\n\u001b[1;32m--> 251\u001b[0m     \u001b[39mraise\u001b[39;00m func_err\n\u001b[0;32m    252\u001b[0m \u001b[39mreturn\u001b[39;00m frozen_trial\n",
      "File \u001b[1;32mc:\\Users\\Olajide\\anaconda3\\lib\\site-packages\\optuna\\study\\_optimize.py:200\u001b[0m, in \u001b[0;36m_run_trial\u001b[1;34m(study, func, catch)\u001b[0m\n\u001b[0;32m    198\u001b[0m \u001b[39mwith\u001b[39;00m get_heartbeat_thread(trial\u001b[39m.\u001b[39m_trial_id, study\u001b[39m.\u001b[39m_storage):\n\u001b[0;32m    199\u001b[0m     \u001b[39mtry\u001b[39;00m:\n\u001b[1;32m--> 200\u001b[0m         value_or_values \u001b[39m=\u001b[39m func(trial)\n\u001b[0;32m    201\u001b[0m     \u001b[39mexcept\u001b[39;00m exceptions\u001b[39m.\u001b[39mTrialPruned \u001b[39mas\u001b[39;00m e:\n\u001b[0;32m    202\u001b[0m         \u001b[39m# TODO(mamu): Handle multi-objective cases.\u001b[39;00m\n\u001b[0;32m    203\u001b[0m         state \u001b[39m=\u001b[39m TrialState\u001b[39m.\u001b[39mPRUNED\n",
      "\u001b[1;32mc:\\Users\\Olajide\\OneDrive - Aston University\\Projects\\IDAN\\West Midlands DataSet\\LSTM.ipynb Cell 13\u001b[0m line \u001b[0;36m1\n\u001b[0;32m     <a href='vscode-notebook-cell:/c%3A/Users/Olajide/OneDrive%20-%20Aston%20University/Projects/IDAN/West%20Midlands%20DataSet/LSTM.ipynb#X25sZmlsZQ%3D%3D?line=13'>14</a>\u001b[0m model\u001b[39m.\u001b[39madd(Dropout(dropout_rate))\n\u001b[0;32m     <a href='vscode-notebook-cell:/c%3A/Users/Olajide/OneDrive%20-%20Aston%20University/Projects/IDAN/West%20Midlands%20DataSet/LSTM.ipynb#X25sZmlsZQ%3D%3D?line=14'>15</a>\u001b[0m model\u001b[39m.\u001b[39madd(Dense(\u001b[39m1\u001b[39m))\n\u001b[1;32m---> <a href='vscode-notebook-cell:/c%3A/Users/Olajide/OneDrive%20-%20Aston%20University/Projects/IDAN/West%20Midlands%20DataSet/LSTM.ipynb#X25sZmlsZQ%3D%3D?line=16'>17</a>\u001b[0m model\u001b[39m.\u001b[39mcompile(optimizer\u001b[39m=\u001b[39mkeras\u001b[39m.\u001b[39moptimizers\u001b[39m.\u001b[39mAdam(learning_rate\u001b[39m=\u001b[39mlearning_rate), loss\u001b[39m=\u001b[39m\u001b[39m'\u001b[39m\u001b[39mmse\u001b[39m\u001b[39m'\u001b[39m)\n\u001b[0;32m     <a href='vscode-notebook-cell:/c%3A/Users/Olajide/OneDrive%20-%20Aston%20University/Projects/IDAN/West%20Midlands%20DataSet/LSTM.ipynb#X25sZmlsZQ%3D%3D?line=18'>19</a>\u001b[0m history \u001b[39m=\u001b[39m model\u001b[39m.\u001b[39mfit(X_train_reshaped, y_train, batch_size\u001b[39m=\u001b[39mbatch_size, epochs\u001b[39m=\u001b[39m\u001b[39m50\u001b[39m, validation_data\u001b[39m=\u001b[39m(X_test_reshaped, y_test), verbose\u001b[39m=\u001b[39m\u001b[39m0\u001b[39m)\n\u001b[0;32m     <a href='vscode-notebook-cell:/c%3A/Users/Olajide/OneDrive%20-%20Aston%20University/Projects/IDAN/West%20Midlands%20DataSet/LSTM.ipynb#X25sZmlsZQ%3D%3D?line=20'>21</a>\u001b[0m \u001b[39m# Use validation loss as the metric to optimize\u001b[39;00m\n",
      "\u001b[1;31mNameError\u001b[0m: name 'keras' is not defined"
     ]
    }
   ],
   "source": [
    "import tensorflow as tf\n",
    "import optuna\n",
    "\n",
    "study = optuna.create_study(direction='minimize')  # \n",
    "study.optimize(objective, n_trials=50)  # \n",
    "\n",
    "print('Best hyperparameters: ', study.best_params)\n",
    "\n",
    "model.compile(optimizer=tf.keras.optimizers.Adam(learning_rate=learning_rate), loss='mse')\n"
   ]
  },
  {
   "cell_type": "markdown",
   "metadata": {},
   "source": []
  },
  {
   "cell_type": "code",
   "execution_count": null,
   "metadata": {},
   "outputs": [
    {
     "name": "stderr",
     "output_type": "stream",
     "text": [
      "[I 2023-09-24 19:51:27,981] A new study created in memory with name: no-name-2366b016-e760-41c8-9566-412900f17358\n"
     ]
    },
    {
     "ename": "NameError",
     "evalue": "name 'objective' is not defined",
     "output_type": "error",
     "traceback": [
      "\u001b[1;31m---------------------------------------------------------------------------\u001b[0m",
      "\u001b[1;31mNameError\u001b[0m                                 Traceback (most recent call last)",
      "\u001b[1;32mc:\\Users\\Olajide\\OneDrive - Aston University\\Projects\\IDAN\\West Midlands DataSet\\LSTM.ipynb Cell 15\u001b[0m line \u001b[0;36m8\n\u001b[0;32m      <a href='vscode-notebook-cell:/c%3A/Users/Olajide/OneDrive%20-%20Aston%20University/Projects/IDAN/West%20Midlands%20DataSet/LSTM.ipynb#X32sZmlsZQ%3D%3D?line=5'>6</a>\u001b[0m \u001b[39m# ... (rest of the code remains the same)\u001b[39;00m\n\u001b[0;32m      <a href='vscode-notebook-cell:/c%3A/Users/Olajide/OneDrive%20-%20Aston%20University/Projects/IDAN/West%20Midlands%20DataSet/LSTM.ipynb#X32sZmlsZQ%3D%3D?line=6'>7</a>\u001b[0m study \u001b[39m=\u001b[39m optuna\u001b[39m.\u001b[39mcreate_study(direction\u001b[39m=\u001b[39m\u001b[39m'\u001b[39m\u001b[39mminimize\u001b[39m\u001b[39m'\u001b[39m)  \u001b[39m# We want to minimize the validation loss\u001b[39;00m\n\u001b[1;32m----> <a href='vscode-notebook-cell:/c%3A/Users/Olajide/OneDrive%20-%20Aston%20University/Projects/IDAN/West%20Midlands%20DataSet/LSTM.ipynb#X32sZmlsZQ%3D%3D?line=7'>8</a>\u001b[0m study\u001b[39m.\u001b[39moptimize(objective, n_trials\u001b[39m=\u001b[39m\u001b[39m50\u001b[39m)  \u001b[39m# You can increase n_trials for a more exhaustive search\u001b[39;00m\n\u001b[0;32m     <a href='vscode-notebook-cell:/c%3A/Users/Olajide/OneDrive%20-%20Aston%20University/Projects/IDAN/West%20Midlands%20DataSet/LSTM.ipynb#X32sZmlsZQ%3D%3D?line=9'>10</a>\u001b[0m \u001b[39mprint\u001b[39m(\u001b[39m'\u001b[39m\u001b[39mBest hyperparameters: \u001b[39m\u001b[39m'\u001b[39m, study\u001b[39m.\u001b[39mbest_params)\n\u001b[0;32m     <a href='vscode-notebook-cell:/c%3A/Users/Olajide/OneDrive%20-%20Aston%20University/Projects/IDAN/West%20Midlands%20DataSet/LSTM.ipynb#X32sZmlsZQ%3D%3D?line=11'>12</a>\u001b[0m model\u001b[39m.\u001b[39mcompile(optimizer\u001b[39m=\u001b[39mAdam(learning_rate\u001b[39m=\u001b[39mlearning_rate), loss\u001b[39m=\u001b[39m\u001b[39m'\u001b[39m\u001b[39mmse\u001b[39m\u001b[39m'\u001b[39m)\n",
      "\u001b[1;31mNameError\u001b[0m: name 'objective' is not defined"
     ]
    }
   ],
   "source": [
    "from keras.models import Sequential\n",
    "from keras.layers import LSTM, Dense, Dropout\n",
    "from keras.optimizers import Adam\n",
    "import optuna\n",
    "\n",
    "# ... (rest of the code remains the same)\n",
    "study = optuna.create_study(direction='minimize')  # We want to minimize the validation loss\n",
    "study.optimize(objective, n_trials=50)  # You can increase n_trials for a more exhaustive search\n",
    "\n",
    "print('Best hyperparameters: ', study.best_params)\n",
    "\n",
    "model.compile(optimizer=Adam(learning_rate=learning_rate), loss='mse')\n"
   ]
  },
  {
   "cell_type": "code",
   "execution_count": null,
   "metadata": {},
   "outputs": [
    {
     "data": {
      "text/plain": [
       "[-5.528539172180587e-25,\n",
       " -260.1671313709845,\n",
       " -563.5381828968258,\n",
       " -1779.9297595867192,\n",
       " -3531.878518301704,\n",
       " -28680.459134682278,\n",
       " -90310.05375761939,\n",
       " -185240.5590616559]"
      ]
     },
     "metadata": {},
     "output_type": "display_data"
    }
   ],
   "source": [
    "sbs.scores_\n"
   ]
  },
  {
   "cell_type": "code",
   "execution_count": null,
   "metadata": {},
   "outputs": [],
   "source": []
  },
  {
   "cell_type": "code",
   "execution_count": null,
   "metadata": {},
   "outputs": [],
   "source": []
  },
  {
   "cell_type": "code",
   "execution_count": null,
   "metadata": {},
   "outputs": [],
   "source": []
  },
  {
   "cell_type": "code",
   "execution_count": null,
   "metadata": {},
   "outputs": [],
   "source": []
  },
  {
   "cell_type": "code",
   "execution_count": null,
   "metadata": {},
   "outputs": [],
   "source": []
  },
  {
   "cell_type": "code",
   "execution_count": null,
   "metadata": {},
   "outputs": [],
   "source": []
  }
 ],
 "metadata": {
  "kernelspec": {
   "display_name": "Python 3 (ipykernel)",
   "language": "python",
   "name": "python3"
  },
  "language_info": {
   "codemirror_mode": {
    "name": "ipython",
    "version": 3
   },
   "file_extension": ".py",
   "mimetype": "text/x-python",
   "name": "python",
   "nbconvert_exporter": "python",
   "pygments_lexer": "ipython3",
   "version": "3.10.9"
  }
 },
 "nbformat": 4,
 "nbformat_minor": 2
}
